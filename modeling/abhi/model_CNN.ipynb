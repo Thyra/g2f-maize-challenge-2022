{
 "cells": [
  {
   "cell_type": "code",
   "execution_count": 1,
   "id": "91b4c7c3-78fb-4237-9d00-96393904004f",
   "metadata": {},
   "outputs": [],
   "source": [
    "import sys\n",
    "functions_at = '/proj/scripts/functions'\n",
    "sys.path = [f'{functions_at}'] + sys.path\n",
    "from functions import *\n",
    "tmp_at = '/proj/tmp_data'\n",
    "dump_at = '/proj/dump'\n",
    "source_data = '/proj/source_data/Training_Data'\n",
    "source_data_2 = '/proj/source_data/Testing_Data'\n",
    "processed_data = '/proj/processed_data'"
   ]
  },
  {
   "cell_type": "code",
   "execution_count": null,
   "id": "b5320754-7da4-4ecd-b8f5-54725ab6e28d",
   "metadata": {},
   "outputs": [],
   "source": []
  }
 ],
 "metadata": {
  "kernelspec": {
   "display_name": "Python 3 (ipykernel)",
   "language": "python",
   "name": "python3"
  },
  "language_info": {
   "codemirror_mode": {
    "name": "ipython",
    "version": 3
   },
   "file_extension": ".py",
   "mimetype": "text/x-python",
   "name": "python",
   "nbconvert_exporter": "python",
   "pygments_lexer": "ipython3",
   "version": "3.8.10"
  }
 },
 "nbformat": 4,
 "nbformat_minor": 5
}
